{
 "cells": [
  {
   "cell_type": "code",
   "execution_count": 1,
   "id": "95c2b8f6",
   "metadata": {},
   "outputs": [],
   "source": [
    "import pandas as pd\n",
    "import math\n",
    "import numpy as np\n",
    "from math import radians, cos, sin, asin, sqrt\n",
    "import sys\n",
    "from queue import PriorityQueue\n",
    "import sys\n",
    "from math import tanh\n",
    "import heapq\n",
    "import numpy as np"
   ]
  },
  {
   "cell_type": "code",
   "execution_count": 2,
   "id": "7c9aa2c8",
   "metadata": {},
   "outputs": [],
   "source": [
    "def get_data():\n",
    "    data = pd.read_csv('city-gps.txt', sep = ' ', index_col = None, names=[\"City\", \"latitude\", \"Longitude\"])\n",
    "    lat_long = data.set_index('City').T.to_dict('list')\n",
    "    data1 = pd.read_csv('road-segments.txt', sep = ' ', index_col = None, names = [ 'first_city', 'second_city', 'length', 'speed_limit', 'name_of_highway'])\n",
    "    data2 = data1.copy()\n",
    "    data2.rename(columns={\"first_city\": \"second_city\", \"second_city\": \"first_city\"},inplace = True )\n",
    "    data_final = data1.append(data2)\n",
    "    data_final.drop_duplicates(inplace=True)\n",
    "    data_list = data_final.values.tolist()\n",
    "    return lat_long, data_final"
   ]
  },
  {
   "cell_type": "code",
   "execution_count": 9,
   "id": "f0bcaa5d",
   "metadata": {},
   "outputs": [
    {
     "name": "stderr",
     "output_type": "stream",
     "text": [
      "C:\\Users\\sarad\\AppData\\Local\\Temp\\ipykernel_26040\\1146456031.py:3: UserWarning: DataFrame columns are not unique, some columns will be omitted.\n",
      "  lat_long = data.set_index('City').T.to_dict('list')\n",
      "C:\\Users\\sarad\\AppData\\Local\\Temp\\ipykernel_26040\\1146456031.py:7: FutureWarning: The frame.append method is deprecated and will be removed from pandas in a future version. Use pandas.concat instead.\n",
      "  data_final = data1.append(data2)\n"
     ]
    }
   ],
   "source": [
    "lat_long, data_list = get_data()"
   ]
  },
  {
   "cell_type": "code",
   "execution_count": 14,
   "id": "794fb971",
   "metadata": {},
   "outputs": [],
   "source": [
    "def haversine_dist(city1, city2,data):\n",
    "    if city1 not in data.keys() or city2 not in data.keys():\n",
    "        return 0\n",
    "    city1 = data[city1]\n",
    "    city2 = data[city2]\n",
    "    # this function gives the haversine distance in miles between any two cities\n",
    "    city1_long = radians(city1[1])\n",
    "    city2_long = radians(city2[1])\n",
    "    city1_lat = radians(city1[0])\n",
    "    city2_lat = radians(city2[0])\n",
    "\n",
    "    temp_distance = 2 * asin(sqrt(sin((city2_lat - city1_lat)/2) ** 2 + cos(city1_lat) * cos(city2_lat) * sin((city2_long - city1_long)/2) ** 2))\n",
    "\n",
    "    return temp_distance*3956\n"
   ]
  },
  {
   "cell_type": "code",
   "execution_count": 4,
   "id": "280e949c",
   "metadata": {},
   "outputs": [],
   "source": [
    "def successors(data_list,city):\n",
    "    succ = []\n",
    "    for i in data_list:\n",
    "        if i[0] == city:\n",
    "            succ.append(i[1])\n",
    "    return succ"
   ]
  },
  {
   "cell_type": "code",
   "execution_count": 5,
   "id": "7ede048d",
   "metadata": {},
   "outputs": [],
   "source": [
    "def is_goal(state,city2):\n",
    "    return state == city2"
   ]
  },
  {
   "cell_type": "code",
   "execution_count": 6,
   "id": "ba7035af",
   "metadata": {},
   "outputs": [],
   "source": [
    "def solve(city1,city2, data_list,lat_long):\n",
    "    fringe = PriorityQueue()\n",
    "    count = 0\n",
    "    fringe.put((count,(city1,[])))\n",
    "    while ( not fringe.empty()):\n",
    "        \n",
    "        gg = (fringe.get())\n",
    "        (state, path) = gg[1]\n",
    "        \n",
    "        \n",
    "        if is_goal(state,city2):\n",
    "            return path+[state,]\n",
    "        \n",
    "        count+=1\n",
    "        for s in successors(data_list,state):\n",
    "            fringe.put((len(path)+haversine_dist(s,city2,lat_long),(s, path+[state])))\n",
    "            \n",
    "    return []"
   ]
  },
  {
   "cell_type": "code",
   "execution_count": null,
   "id": "cc428593",
   "metadata": {},
   "outputs": [],
   "source": [
    "def find_max_speed(file):\n",
    "    city1, city2, distance, speed_limit, highway = np.genfromtxt(file, unpack=True)\n",
    "    return max(speed_limit)\n",
    "\n",
    "# Segment cost function\n",
    "def segment_cost_function(end, current_state, city_gps, road_segments, max_speed):\n",
    "    current_route, route_taken, current_segment_count, current_miles, current_time, current_delivery_time = current_state\n",
    "    return current_segment_count + 1\n",
    "\n",
    "\n",
    "# Distance cost function\n",
    "def dist_cost_function(end, current_state, city_gps, road_segments, max_speed):\n",
    "    current_route, route_taken, current_segment_count, current_miles, current_time, current_delivery_time = current_state\n",
    "    current_city = current_route[-1]\n",
    "    distance = cities_distance(current_city, end, city_gps)\n",
    "    return current_miles + distance\n",
    "\n",
    "\n",
    "# Time cost function\n",
    "def time_cost_function(end, current_state, city_gps, road_segments, max_speed):\n",
    "    current_route, route_taken, current_segment_count, current_miles, current_time, current_delivery_time = current_state\n",
    "    current_city = current_route[-1]\n",
    "    distance = cities_distance(current_city, end, city_gps)\n",
    "\n",
    "    time = distance / max_speed\n",
    "    return current_time + time\n",
    "\n",
    "\n",
    "def delivery_cost_function(end, current_state, city_gps, road_segments, max_speed):\n",
    "    current_route, route_taken, current_segment_count, current_miles, current_time, current_delivery_time = current_state\n",
    "    current_city = current_route[-1]\n",
    "    distance = cities_distance(current_city, end, city_gps)\n",
    "\n",
    "    time = distance / max_speed\n",
    "    return current_delivery_time + time\n",
    "\n",
    "\n",
    "\n",
    "# Select the proper cost function\n",
    "def cost_function_selection(cost_func, end, current_state, city_gps, road_segments, max_speed):\n",
    "    if cost_func == 'segments':\n",
    "        return segment_cost_function(end, current_state, city_gps, road_segments, max_speed)\n",
    "    if cost_func == 'distance':\n",
    "        return dist_cost_function(end, current_state, city_gps, road_segments, max_speed)\n",
    "    if cost_func == 'time':\n",
    "        return time_cost_function(end, current_state, city_gps, road_segments, max_speed)\n",
    "    else:\n",
    "        return delivery_cost_function(end, current_state, city_gps, road_segments, max_speed)"
   ]
  },
  {
   "cell_type": "code",
   "execution_count": 30,
   "id": "e64c8b82",
   "metadata": {},
   "outputs": [],
   "source": [
    "def find_max_speed(file):\n",
    "    city1, city2, distance, speed_limit, highway = np.genfromtxt(file, unpack=True)\n",
    "    return max(speed_limit)"
   ]
  },
  {
   "cell_type": "code",
   "execution_count": 34,
   "id": "7490994e",
   "metadata": {},
   "outputs": [],
   "source": [
    "max_speed = find_max_speed('road-segments.txt')"
   ]
  },
  {
   "cell_type": "code",
   "execution_count": 35,
   "id": "71e9e5a2",
   "metadata": {},
   "outputs": [
    {
     "data": {
      "text/plain": [
       "nan"
      ]
     },
     "execution_count": 35,
     "metadata": {},
     "output_type": "execute_result"
    }
   ],
   "source": [
    "max_speed"
   ]
  },
  {
   "cell_type": "code",
   "execution_count": 33,
   "id": "bad28eab",
   "metadata": {},
   "outputs": [],
   "source": [
    "def find_max_speed(file):\n",
    "    city1, city2, distance, speed_limit, highway = np.genfromtxt(file, unpack=True)\n",
    "    return max(city1)"
   ]
  },
  {
   "cell_type": "code",
   "execution_count": null,
   "id": "6a8f0630",
   "metadata": {},
   "outputs": [],
   "source": []
  }
 ],
 "metadata": {
  "kernelspec": {
   "display_name": "Python 3 (ipykernel)",
   "language": "python",
   "name": "python3"
  },
  "language_info": {
   "codemirror_mode": {
    "name": "ipython",
    "version": 3
   },
   "file_extension": ".py",
   "mimetype": "text/x-python",
   "name": "python",
   "nbconvert_exporter": "python",
   "pygments_lexer": "ipython3",
   "version": "3.10.7"
  }
 },
 "nbformat": 4,
 "nbformat_minor": 5
}
